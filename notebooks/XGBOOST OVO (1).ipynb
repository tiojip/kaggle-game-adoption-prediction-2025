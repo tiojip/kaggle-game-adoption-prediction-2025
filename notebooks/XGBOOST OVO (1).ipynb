{
 "cells": [
  {
   "cell_type": "code",
   "execution_count": 2,
   "id": "433cc1bc-cc8e-4946-9d12-bffd1227e7cb",
   "metadata": {},
   "outputs": [
    {
     "name": "stdout",
     "output_type": "stream",
     "text": [
      "Requirement already satisfied: lightgbm in c:\\users\\flero\\anaconda3\\lib\\site-packages (4.5.0)\n",
      "Requirement already satisfied: numpy>=1.17.0 in c:\\users\\flero\\anaconda3\\lib\\site-packages (from lightgbm) (1.26.4)\n",
      "Requirement already satisfied: scipy in c:\\users\\flero\\anaconda3\\lib\\site-packages (from lightgbm) (1.13.1)\n",
      "Note: you may need to restart the kernel to use updated packages.\n"
     ]
    }
   ],
   "source": [
    "pip install lightgbm"
   ]
  },
  {
   "cell_type": "code",
   "execution_count": 4,
   "id": "3f7b7759-757e-4b26-be24-c6ad41d96b56",
   "metadata": {},
   "outputs": [],
   "source": [
    "import os\n",
    "import pandas as pd\n",
    "import numpy as np\n",
    "import statsmodels.formula.api as smf\n",
    "from sklearn.preprocessing import StandardScaler\n",
    "import lightgbm as lgb\n",
    "import matplotlib.pyplot as plt\n",
    "from lightgbm import LGBMRegressor\n",
    "from sklearn.model_selection import RandomizedSearchCV, train_test_split\n",
    "from sklearn.metrics import mean_squared_error"
   ]
  },
  {
   "cell_type": "code",
   "execution_count": 6,
   "id": "697ad12c-7164-4963-9640-f90c385e3516",
   "metadata": {},
   "outputs": [
    {
     "name": "stdout",
     "output_type": "stream",
     "text": [
      "Répertoire courant : C:\\Users\\flero\\Downloads\n"
     ]
    }
   ],
   "source": [
    "# Afficher le répertoire courant\n",
    "print(\"Répertoire courant :\", os.getcwd())"
   ]
  },
  {
   "cell_type": "code",
   "execution_count": 8,
   "id": "f7144be9-5d73-4039-8f6a-861aef7af6a0",
   "metadata": {},
   "outputs": [
    {
     "name": "stdout",
     "output_type": "stream",
     "text": [
      "Nouveau répertoire : D:\\HEC\\Msc BI\\Data Mining\\Devoir Hiver\n"
     ]
    }
   ],
   "source": [
    "# Changer de répertoire (remplacez le chemin par celui de votre dossier)\n",
    "os.chdir(r'D:\\HEC\\Msc BI\\Data Mining\\Devoir Hiver')\n",
    "print(\"Nouveau répertoire :\", os.getcwd())"
   ]
  },
  {
   "cell_type": "code",
   "execution_count": 10,
   "id": "9051b5a0-5089-4d37-9627-ff817591354f",
   "metadata": {},
   "outputs": [
    {
     "name": "stdout",
     "output_type": "stream",
     "text": [
      "Dimensions de mobiletrain : (5000, 17)\n"
     ]
    }
   ],
   "source": [
    "\n",
    "# Importation des données\n",
    "# Ici, nous utilisons pd.read_csv() pour lire les fichiers texte.\n",
    "# L'argument sep=r'\\s+' précise que les colonnes sont séparées par des espaces.\n",
    "mobiletrain = pd.read_csv(\"train.csv\", sep=',')\n",
    "mobiletest  = pd.read_csv(\"test.csv\", sep=',')\n",
    "\n",
    "# Affichage des dimensions du DataFrame mobiletrain\n",
    "# L'attribut .shape renvoie un tuple (nombre de lignes, nombre de colonnes)\n",
    "print(\"Dimensions de mobiletrain :\", mobiletrain.shape)\n"
   ]
  },
  {
   "cell_type": "code",
   "execution_count": 12,
   "id": "9dffd38f-0a9c-456f-a864-911c839d1ee8",
   "metadata": {},
   "outputs": [],
   "source": [
    "import pandas as pd\n",
    "import numpy as np\n",
    "from sklearn.preprocessing import LabelEncoder\n",
    "from sklearn.ensemble import RandomForestClassifier\n",
    "from sklearn.svm import SVC\n",
    "from sklearn.linear_model import LogisticRegression\n",
    "from sklearn.model_selection import StratifiedKFold\n",
    "from sklearn.metrics import accuracy_score\n",
    "import xgboost as xgb\n",
    "import xgboost as xgb\n",
    "import pandas as pd\n",
    "from sklearn.preprocessing import LabelEncoder"
   ]
  },
  {
   "cell_type": "code",
   "execution_count": 16,
   "id": "65f94a8a-e3ed-4b54-8a79-37612ea427d5",
   "metadata": {},
   "outputs": [],
   "source": [
    "import xgboost as xgb\n",
    "import pandas as pd\n",
    "import numpy as np\n",
    "from sklearn.preprocessing import LabelEncoder\n",
    "from sklearn.multiclass import OneVsOneClassifier\n"
   ]
  },
  {
   "cell_type": "code",
   "execution_count": 18,
   "id": "23e7cfd3-c42b-47b4-9326-1097085455a1",
   "metadata": {},
   "outputs": [
    {
     "name": "stderr",
     "output_type": "stream",
     "text": [
      "C:\\Users\\flero\\anaconda3\\Lib\\site-packages\\xgboost\\training.py:183: UserWarning: [13:21:46] WARNING: C:\\actions-runner\\_work\\xgboost\\xgboost\\src\\learner.cc:738: \n",
      "Parameters: { \"use_label_encoder\" } are not used.\n",
      "\n",
      "  bst.update(dtrain, iteration=i, fobj=obj)\n",
      "C:\\Users\\flero\\anaconda3\\Lib\\site-packages\\xgboost\\training.py:183: UserWarning: [13:21:47] WARNING: C:\\actions-runner\\_work\\xgboost\\xgboost\\src\\learner.cc:738: \n",
      "Parameters: { \"use_label_encoder\" } are not used.\n",
      "\n",
      "  bst.update(dtrain, iteration=i, fobj=obj)\n",
      "C:\\Users\\flero\\anaconda3\\Lib\\site-packages\\xgboost\\training.py:183: UserWarning: [13:21:48] WARNING: C:\\actions-runner\\_work\\xgboost\\xgboost\\src\\learner.cc:738: \n",
      "Parameters: { \"use_label_encoder\" } are not used.\n",
      "\n",
      "  bst.update(dtrain, iteration=i, fobj=obj)\n",
      "C:\\Users\\flero\\anaconda3\\Lib\\site-packages\\xgboost\\training.py:183: UserWarning: [13:21:49] WARNING: C:\\actions-runner\\_work\\xgboost\\xgboost\\src\\learner.cc:738: \n",
      "Parameters: { \"use_label_encoder\" } are not used.\n",
      "\n",
      "  bst.update(dtrain, iteration=i, fobj=obj)\n",
      "C:\\Users\\flero\\anaconda3\\Lib\\site-packages\\xgboost\\training.py:183: UserWarning: [13:21:50] WARNING: C:\\actions-runner\\_work\\xgboost\\xgboost\\src\\learner.cc:738: \n",
      "Parameters: { \"use_label_encoder\" } are not used.\n",
      "\n",
      "  bst.update(dtrain, iteration=i, fobj=obj)\n"
     ]
    },
    {
     "name": "stdout",
     "output_type": "stream",
     "text": [
      "✅ Fichier 'submission_xgboos_ovot.csv' généré avec XGBoost pour Kaggle.\n"
     ]
    }
   ],
   "source": [
    "# Nettoyage des colonnes\n",
    "mobiletrain.columns = mobiletrain.columns.str.strip()\n",
    "mobiletest.columns = mobiletest.columns.str.strip()\n",
    "\n",
    "# Création de variables dérivées (feature engineering simple)\n",
    "mobiletrain['avg_score_per_session'] = mobiletrain['totscore'] / (mobiletrain['numsessions'] + 1)\n",
    "mobiletest['avg_score_per_session'] = mobiletest['totscore'] / (mobiletest['numsessions'] + 1)\n",
    "\n",
    "# Séparer les features et la cible\n",
    "X = pd.get_dummies(mobiletrain.drop(columns=['y']))\n",
    "y = mobiletrain['y']\n",
    "\n",
    "# Encodage de la cible\n",
    "label_encoder = LabelEncoder()\n",
    "y_encoded = label_encoder.fit_transform(y)\n",
    "\n",
    "# Adapter X_test aux colonnes d'entraînement\n",
    "X_test = pd.get_dummies(mobiletest.drop(columns=['id']))\n",
    "X_test = X_test.reindex(columns=X.columns, fill_value=0)\n",
    "\n",
    "# Définition du modèle XGBoost (modèle de base pour chaque paire OvO)\n",
    "base_model = xgb.XGBClassifier(\n",
    "    objective='binary:logistic',  # binaire pour chaque sous-modèle OvO\n",
    "    eval_metric='logloss',\n",
    "    n_estimators=688,\n",
    "    learning_rate=0.19506627095212276,\n",
    "    max_depth=4, \n",
    "    min_child_weight=10, \n",
    "    subsample=0.6602379386300246,\n",
    "    colsample_bytree=0.9567880663184878,\n",
    "    gamma=0.8519961776491365,\n",
    "    use_label_encoder=False,\n",
    "    random_state=42\n",
    ")\n",
    "\n",
    "# Envelopper dans un OneVsOneClassifier\n",
    "ovo_model = OneVsOneClassifier(base_model)\n",
    "\n",
    "# Entraînement du modèle OvO\n",
    "ovo_model.fit(X, y_encoded)\n",
    "\n",
    "# Prédictions sur le jeu de test\n",
    "y_test_pred_encoded = ovo_model.predict(X_test)\n",
    "y_test_pred = label_encoder.inverse_transform(y_test_pred_encoded)\n",
    "\n",
    "# Création du fichier de soumission\n",
    "submission_xgb = pd.DataFrame({\n",
    "    'id': mobiletest['id'],\n",
    "    'Prediction': y_test_pred\n",
    "})\n",
    "\n",
    "# Export du fichier CSV\n",
    "submission_xgb.to_csv(\"submission_xgboost_ovo.csv\", index=False)\n",
    "\n",
    "print(\"✅ Fichier 'submission_xgboos_ovot.csv' généré avec XGBoost pour Kaggle.\")\n"
   ]
  },
  {
   "cell_type": "code",
   "execution_count": null,
   "id": "b262b5d5-31aa-410f-8881-e479cd533214",
   "metadata": {},
   "outputs": [],
   "source": []
  }
 ],
 "metadata": {
  "kernelspec": {
   "display_name": "Python [conda env:base] *",
   "language": "python",
   "name": "conda-base-py"
  },
  "language_info": {
   "codemirror_mode": {
    "name": "ipython",
    "version": 3
   },
   "file_extension": ".py",
   "mimetype": "text/x-python",
   "name": "python",
   "nbconvert_exporter": "python",
   "pygments_lexer": "ipython3",
   "version": "3.12.7"
  }
 },
 "nbformat": 4,
 "nbformat_minor": 5
}
